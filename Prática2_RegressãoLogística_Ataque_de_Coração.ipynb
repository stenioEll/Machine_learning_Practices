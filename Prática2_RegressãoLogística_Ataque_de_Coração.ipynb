{
  "cells": [
    {
      "cell_type": "markdown",
      "metadata": {
        "id": "sKPfuEnapDnU"
      },
      "source": [
        "# <font color=\"darkblue\"> Praticando Regressão Logística - Ataque de Coração</font>"
      ]
    },
    {
      "cell_type": "markdown",
      "metadata": {
        "id": "nKa5whanpntS"
      },
      "source": [
        "**Objetivos:**\n",
        "\n",
        "\n",
        "*   Apresentar  plataforma Kaglee\n",
        "*   Inferir dados de uma base real utilizando o algoritmo de Regressão Logística\n",
        "\n",
        "**Requisitos de execução:**\n",
        "\n",
        "\n",
        "*   Upload do arquivo *heart_failure_clinical_records_dataset.csv*"
      ]
    },
    {
      "cell_type": "markdown",
      "metadata": {
        "id": "OPCbV-Udr1Pz"
      },
      "source": [
        "**Atividade 1:**\n",
        "\n",
        "1. Visitar a base de dados: https://www.kaggle.com/andrewmvd/heart-failure-clinical-data\n",
        "2. Carregar os dados do arquivo *heart_failure_clinical_records_dataset.csv* utilizando o pandas.\n",
        "\n",
        "    "
      ]
    },
    {
      "cell_type": "code",
      "execution_count": null,
      "metadata": {
        "colab": {
          "base_uri": "https://localhost:8080/"
        },
        "id": "ZROjmwlFocyd",
        "outputId": "65aec402-13aa-4679-8b3f-cace88c1ca46"
      },
      "outputs": [
        {
          "output_type": "stream",
          "name": "stdout",
          "text": [
            "    age  anaemia  creatinine_phosphokinase  diabetes  ejection_fraction  \\\n",
            "0  75.0        0                       582         0                 20   \n",
            "1  55.0        0                      7861         0                 38   \n",
            "2  65.0        0                       146         0                 20   \n",
            "3  50.0        1                       111         0                 20   \n",
            "4  65.0        1                       160         1                 20   \n",
            "\n",
            "   high_blood_pressure  platelets  serum_creatinine  serum_sodium  sex  \\\n",
            "0                    1  265000.00               1.9           130    1   \n",
            "1                    0  263358.03               1.1           136    1   \n",
            "2                    0  162000.00               1.3           129    1   \n",
            "3                    0  210000.00               1.9           137    1   \n",
            "4                    0  327000.00               2.7           116    0   \n",
            "\n",
            "   smoking  time  DEATH_EVENT  \n",
            "0        0     4            1  \n",
            "1        0     6            1  \n",
            "2        1     7            1  \n",
            "3        0     7            1  \n",
            "4        0     8            1  \n"
          ]
        }
      ],
      "source": [
        "import pandas as pd\n",
        "import numpy as np\n",
        "\n",
        "heart_data = pd.read_csv('heart_failure_clinical_records_dataset.csv')\n",
        "print(heart_data.head())\n"
      ]
    },
    {
      "cell_type": "markdown",
      "metadata": {
        "id": "O73AMlZRtOTU"
      },
      "source": [
        "**Atividade 2:**\n",
        "\n",
        "1. Extrair os valores do *DataFrame* pandas e colocar nas variáveis\n"
      ]
    },
    {
      "cell_type": "code",
      "execution_count": null,
      "metadata": {
        "id": "sU9ugDeOtaHd",
        "colab": {
          "base_uri": "https://localhost:8080/"
        },
        "outputId": "52133dda-534d-4cb5-b84d-ba9d5f6b0cfa"
      },
      "outputs": [
        {
          "output_type": "stream",
          "name": "stdout",
          "text": [
            "d: 12\n",
            "N: 299\n",
            "[[4.000e+00 0.000e+00 5.820e+02 ... 1.300e+02 1.000e+00 0.000e+00]\n",
            " [6.000e+00 0.000e+00 7.861e+03 ... 1.360e+02 1.000e+00 0.000e+00]\n",
            " [7.000e+00 0.000e+00 1.460e+02 ... 1.290e+02 1.000e+00 1.000e+00]\n",
            " ...\n",
            " [2.780e+02 0.000e+00 2.060e+03 ... 1.380e+02 0.000e+00 0.000e+00]\n",
            " [2.800e+02 0.000e+00 2.413e+03 ... 1.400e+02 1.000e+00 1.000e+00]\n",
            " [2.850e+02 0.000e+00 1.960e+02 ... 1.360e+02 1.000e+00 1.000e+00]]\n"
          ]
        }
      ],
      "source": [
        "from sklearn.preprocessing import StandardScaler\n",
        "#fazer predictivas pelo rótulo com correlação\n",
        "\n",
        "Features = ['time','anaemia','creatinine_phosphokinase','diabetes','ejection_fraction','serum_creatinine','age', 'high_blood_pressure', 'platelets', 'serum_sodium', 'sex', 'smoking']\n",
        "\n",
        "# sc = StandardScaler()\n",
        "# sc.fit(heart_data[Features].values)\n",
        "\n",
        "X = heart_data[Features].values\n",
        "y = heart_data[\"DEATH_EVENT\"].values\n",
        "\n",
        "print(\"d: \" + str(len(Features)))\n",
        "print(\"N: \" + str(len(y)))\n",
        "print(X)"
      ]
    },
    {
      "cell_type": "markdown",
      "metadata": {
        "id": "LWlIeFootavy"
      },
      "source": [
        "**Atividade 3:**\n",
        "\n",
        "1. Separar os dados em conjunto de treinamento e teste\n"
      ]
    },
    {
      "cell_type": "code",
      "execution_count": null,
      "metadata": {
        "colab": {
          "base_uri": "https://localhost:8080/"
        },
        "id": "1CEvKox1tsWj",
        "outputId": "52f1ffc3-ab58-4884-db55-75f103296dc1"
      },
      "outputs": [
        {
          "output_type": "stream",
          "name": "stdout",
          "text": [
            "Tamanho treinamento: 224\n",
            "Tamanho teste: 75\n",
            "[[-0.25630788 -0.85815739 -0.12725554 ... -1.06908268 -1.34164079\n",
            "  -0.64631379]\n",
            " [-0.14127745 -0.85815739 -0.47592317 ... -0.62520035  0.74535599\n",
            "   1.54723605]\n",
            " [-0.49914989  1.16528741 -0.44932183 ...  0.04062316 -1.34164079\n",
            "  -0.64631379]\n",
            " ...\n",
            " [-1.48329911  1.16528741 -0.22511049 ... -0.18131801  0.74535599\n",
            "  -0.64631379]\n",
            " [-0.40968178  1.16528741 -0.2450615  ... -0.40325918 -1.34164079\n",
            "  -0.64631379]\n",
            " [ 1.4180239   1.16528741 -0.30206438 ...  0.70644667  0.74535599\n",
            "   1.54723605]]\n"
          ]
        }
      ],
      "source": [
        "from sklearn.model_selection import train_test_split\n",
        "from sklearn.preprocessing import StandardScaler\n",
        "\n",
        "# Validação cruzada\n",
        "X_train, X_test, y_train, y_test = train_test_split(X,y, test_size=0.25, random_state=10)\n",
        "\n",
        "sc1 = StandardScaler()\n",
        "sc1.fit(X_train)\n",
        "X_train = sc1.transform(X_train)\n",
        "X_test = sc1.transform(X_test)\n",
        "\n",
        "print(\"Tamanho treinamento: \" + str(len(X_train)))\n",
        "print(\"Tamanho teste: \" + str(len(X_test)))\n",
        "\n",
        "print(X_train)"
      ]
    },
    {
      "cell_type": "markdown",
      "metadata": {
        "id": "0SH_p2JeTmEN"
      },
      "source": [
        "**Atividade 4:**\n",
        "1. Inferir a função a função hipótese $g(x)=\\theta(w^Tx)$ dos dados de treinamento com a classe LogisticRegression do pacote *sklearn.metrics*\n",
        "2. Computar as métricas de aprendizado sobre o dados de teste.\n",
        "3. Aplique a normalização dos dados de entrada e reexecute todos os experimentos. Compare os resultados."
      ]
    },
    {
      "cell_type": "code",
      "execution_count": null,
      "metadata": {
        "colab": {
          "base_uri": "https://localhost:8080/"
        },
        "id": "GbnZN9PUQQ0d",
        "outputId": "0213fac8-8a53-4677-9264-25bfb813c1e8"
      },
      "outputs": [
        {
          "output_type": "stream",
          "name": "stdout",
          "text": [
            "              precision    recall  f1-score   support\n",
            "\n",
            "           0       0.88      0.84      0.86        55\n",
            "           1       0.61      0.70      0.65        20\n",
            "\n",
            "    accuracy                           0.80        75\n",
            "   macro avg       0.75      0.77      0.76        75\n",
            "weighted avg       0.81      0.80      0.80        75\n",
            "\n"
          ]
        }
      ],
      "source": [
        "from sklearn.metrics import classification_report\n",
        "from sklearn.linear_model import LogisticRegression\n",
        "\n",
        "model = LogisticRegression()\n",
        "model.fit(X_train, y_train)\n",
        "\n",
        "print(classification_report(y_test, model.predict(X_test)))"
      ]
    },
    {
      "cell_type": "markdown",
      "metadata": {
        "id": "IA3iY7ZY_XdU"
      },
      "source": [
        "**Atividade 5:**\n",
        "\n",
        "1. Exiba os parâmetros (Features) de $X$ ordenados pela sua importância na função de decisão, este valor é indicado pelo vetor $w$. No pacote sklearn.linear_model.LogisticRegression, utilize o atributo $coef_$."
      ]
    },
    {
      "cell_type": "code",
      "execution_count": null,
      "metadata": {
        "colab": {
          "base_uri": "https://localhost:8080/"
        },
        "id": "7Eogo8_h_iYk",
        "outputId": "f670c346-733f-4ce4-aa0e-6af7605127d8"
      },
      "outputs": [
        {
          "output_type": "stream",
          "name": "stdout",
          "text": [
            "(2.921257765573557, 'serum_creatinine')\n",
            "(1.8620500504662179, 'age')\n",
            "(1.205887120110878, 'creatinine_phosphokinase')\n",
            "(1.1695120543068467, 'diabetes')\n",
            "(1.126585143927085, 'anaemia')\n",
            "(0.944308592551142, 'smoking')\n",
            "(0.9123610391646991, 'high_blood_pressure')\n",
            "(0.8882293061569555, 'platelets')\n",
            "(0.8437286106209704, 'sex')\n",
            "(0.7766524152537242, 'serum_sodium')\n",
            "(0.3735863677818731, 'ejection_fraction')\n",
            "(0.20403312374675692, 'time')\n"
          ]
        }
      ],
      "source": [
        "param = [(np.exp(coef), f) for coef, f in zip(model.coef_[0], Features)]\n",
        "param.sort(reverse=True)\n",
        "\n",
        "for p in param:\n",
        "  print(p)"
      ]
    }
  ],
  "metadata": {
    "colab": {
      "provenance": []
    },
    "kernelspec": {
      "display_name": "Python 3 (ipykernel)",
      "language": "python",
      "name": "python3"
    },
    "language_info": {
      "codemirror_mode": {
        "name": "ipython",
        "version": 3
      },
      "file_extension": ".py",
      "mimetype": "text/x-python",
      "name": "python",
      "nbconvert_exporter": "python",
      "pygments_lexer": "ipython3",
      "version": "3.11.5"
    }
  },
  "nbformat": 4,
  "nbformat_minor": 0
}