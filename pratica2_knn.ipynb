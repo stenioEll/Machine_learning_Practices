{
  "cells": [
    {
      "cell_type": "markdown",
      "metadata": {
        "id": "0JFhnlk7at7A"
      },
      "source": [
        "# <font color=\"darkblue\"> Prática 02: Algoritmo k-NN </font>"
      ]
    },
{
      "cell_type": "markdown",
      "metadata": {
        "id": "_Txy0UzyawTX"
      },
      "source": [
        "**Introdução:**\n",
        "\n",
        "\n",
        "*   O algoritmo k-Nearest Neighbors (k-NN) é um método de classificação simples e eficaz utilizado em aprendizado de máquina. Ele se baseia na ideia de que objetos semelhantes estão próximos uns dos outros no espaço de características. O k-NN classifica novos exemplos comparando-os com os exemplos de treinamento mais próximos, de acordo com a medida de distância escolhida, como a distância Euclidiana.\n",
        "\n"
      ]
    },
    {
      "cell_type": "markdown",
      "metadata": {
        "id": "_Txy0UzyawTX"
      },
      "source": [
        "**Objetivos:**\n",
        "\n",
        "\n",
        "*   Aplicar o algoritmo k-NN a um problema prático.\n",
        "*   Apresentar as funções do Scikit-Learn que lidam com o k-NN.\n",
        "\n"
      ]
    },
    {
      "cell_type": "markdown",
      "metadata": {
        "id": "keyryvT2bIae"
      },
      "source": [
        "**Descrição:**\n",
        "\n",
        "Implemente duas versões de um classificador que usa o algoritmo k-NN para identificar dígitos escritos à mão a partir de um conjunto de imagens e compare os tempoa de execução. Na primeira versão, você deverá implementar o algoritmo k-NN conforme visto em sala de aula. Na segunda, você deverá usar a algoritmo k-NN da biblioteca Scikit-Learn. O conjunto de imagens a ser utilizado consiste no dataset <i> Digits </i> da biblioteca Scikit-Learn."
      ]
    },
    {
      "cell_type": "markdown",
      "metadata": {
        "id": "wWnD-OFybVw1"
      },
      "source": [
        "# <font color=\"darkblue\"> Solução </font>"
      ]
    },
    {
      "cell_type": "markdown",
      "metadata": {
        "id": "ioVFway7cWiw"
      },
      "source": [
        "### Descrição do Dataset"
      ]
    },
    {
      "cell_type": "code",
      "execution_count": 1,
      "metadata": {
        "colab": {
          "base_uri": "https://localhost:8080/"
        },
        "id": "Lh0fUl5BbR5J",
        "outputId": "3b3ab152-04ee-4a4c-fea3-1536a89f1e73"
      },
      "outputs": [
        {
          "output_type": "stream",
          "name": "stdout",
          "text": [
            ".. _digits_dataset:\n",
            "\n",
            "Optical recognition of handwritten digits dataset\n",
            "--------------------------------------------------\n",
            "\n",
            "**Data Set Characteristics:**\n",
            "\n",
            "    :Number of Instances: 1797\n",
            "    :Number of Attributes: 64\n",
            "    :Attribute Information: 8x8 image of integer pixels in the range 0..16.\n",
            "    :Missing Attribute Values: None\n",
            "    :Creator: E. Alpaydin (alpaydin '@' boun.edu.tr)\n",
            "    :Date: July; 1998\n",
            "\n",
            "This is a copy of the test set of the UCI ML hand-written digits datasets\n",
            "https://archive.ics.uci.edu/ml/datasets/Optical+Recognition+of+Handwritten+Digits\n",
            "\n",
            "The data set contains images of hand-written digits: 10 classes where\n",
            "each class refers to a digit.\n",
            "\n",
            "Preprocessing programs made available by NIST were used to extract\n",
            "normalized bitmaps of handwritten digits from a preprinted form. From a\n",
            "total of 43 people, 30 contributed to the training set and different 13\n",
            "to the test set. 32x32 bitmaps are divided into nonoverlapping blocks of\n",
            "4x4 and the number of on pixels are counted in each block. This generates\n",
            "an input matrix of 8x8 where each element is an integer in the range\n",
            "0..16. This reduces dimensionality and gives invariance to small\n",
            "distortions.\n",
            "\n",
            "For info on NIST preprocessing routines, see M. D. Garris, J. L. Blue, G.\n",
            "T. Candela, D. L. Dimmick, J. Geist, P. J. Grother, S. A. Janet, and C.\n",
            "L. Wilson, NIST Form-Based Handprint Recognition System, NISTIR 5469,\n",
            "1994.\n",
            "\n",
            "|details-start|\n",
            "**References**\n",
            "|details-split|\n",
            "\n",
            "- C. Kaynak (1995) Methods of Combining Multiple Classifiers and Their\n",
            "  Applications to Handwritten Digit Recognition, MSc Thesis, Institute of\n",
            "  Graduate Studies in Science and Engineering, Bogazici University.\n",
            "- E. Alpaydin, C. Kaynak (1998) Cascading Classifiers, Kybernetika.\n",
            "- Ken Tang and Ponnuthurai N. Suganthan and Xi Yao and A. Kai Qin.\n",
            "  Linear dimensionalityreduction using relevance weighted LDA. School of\n",
            "  Electrical and Electronic Engineering Nanyang Technological University.\n",
            "  2005.\n",
            "- Claudio Gentile. A New Approximate Maximal Margin Classification\n",
            "  Algorithm. NIPS. 2000.\n",
            "\n",
            "|details-end|\n"
          ]
        }
      ],
      "source": [
        "#%matplotlib inline\n",
        "import matplotlib.pyplot as plt\n",
        "from sklearn.datasets import load_digits\n",
        "from sklearn.model_selection import train_test_split\n",
        "from sklearn.neighbors import KNeighborsClassifier\n",
        "\n",
        "digits = load_digits()\n",
        "print(digits.DESCR)"
      ]
    },
    {
      "cell_type": "markdown",
      "metadata": {
        "id": "MZT1PjQuSbYQ"
      },
      "source": [
        "### Exploração do Dataset"
      ]
    },
    {
      "cell_type": "code",
      "execution_count": 2,
      "metadata": {
        "colab": {
          "base_uri": "https://localhost:8080/"
        },
        "id": "dLWAS9VUd0lm",
        "outputId": "5ac6097e-4153-4017-d850-042bf0eb5786"
      },
      "outputs": [
        {
          "output_type": "stream",
          "name": "stdout",
          "text": [
            "2\n",
            "(1797, 64)\n",
            "<class 'numpy.ndarray'>\n",
            "[[ 0.  0.  1.  9. 15. 11.  0.  0.]\n",
            " [ 0.  0. 11. 16.  8. 14.  6.  0.]\n",
            " [ 0.  2. 16. 10.  0.  9.  9.  0.]\n",
            " [ 0.  1. 16.  4.  0.  8.  8.  0.]\n",
            " [ 0.  4. 16.  4.  0.  8.  8.  0.]\n",
            " [ 0.  1. 16.  5.  1. 11.  3.  0.]\n",
            " [ 0.  0. 12. 12. 10. 10.  0.  0.]\n",
            " [ 0.  0.  1. 10. 13.  3.  0.  0.]]\n"
          ]
        }
      ],
      "source": [
        "print(digits.target[12])\n",
        "print(digits.data.shape)\n",
        "print(type(digits.data))\n",
        "print(digits.images[10])"
      ]
    },
    {
      "cell_type": "markdown",
      "metadata": {
        "id": "_JtDQu4Bcp1X"
      },
      "source": [
        "### Exibição das imagens"
      ]
    },
    {
      "cell_type": "code",
      "execution_count": 3,
      "metadata": {
        "colab": {
          "base_uri": "https://localhost:8080/",
          "height": 207
        },
        "id": "5_8VQTOfb3c9",
        "outputId": "677eaded-21d2-449e-cb27-440d9d4fd3d6"
      },
      "outputs": [
        {
          "output_type": "display_data",
          "data": {
            "text/plain": [
              "<Figure size 200x200 with 4 Axes>"
            ],
            "image/png": "[encoded data removed]"
          },
          "metadata": {}
        }
      ],
      "source": [
        "figure, axes = plt.subplots(nrows=2, ncols=2, figsize=(2, 2))\n",
        "\n",
        "for item in zip(axes.ravel(), digits.images, digits.target):\n",
        "    axes, image, target = item\n",
        "    axes.imshow(image, cmap=plt.cm.gray_r)\n",
        "    axes.set_xticks([])\n",
        "    axes.set_yticks([])\n",
        "    axes.set_title(target)\n",
        "\n",
        "# usado para um numero nao ficar em cima do outro\n",
        "plt.tight_layout()"
      ]
    },
    {
      "cell_type": "markdown",
      "metadata": {
        "id": "8d8JkaJKcv9O"
      },
      "source": [
        "### Implementação da Versão 1 do classificador\n",
        "Divida os dados em dois conjuntos, de treino e teste, implemente o Algoritmo k-NN conforme discutido em sala de aula e exiba a acurácia da classificação e o tempo de execução."
      ]
    },
    {
      "cell_type": "code",
      "execution_count": 19,
      "metadata": {
        "id": "Vs_GfC1xSbYR"
      },
      "outputs": [],
      "source": [
        "#Embaralhar para evitar padrões indesejados e equilibrar o conjunto de treino e teste\n",
        "import numpy as np\n",
        "\n",
        "np.random.seed(42)  # Para reprodutibilidade\n",
        "indices = np.random.permutation(len(digits.data))"
      ]
    },
    {
      "cell_type": "markdown",
      "source": [
        "##Divisão em dois conjuntos de treino e test\n",
        "Optei por dividir 80% do dataset para treino e 20% para teste, pois dado o tamanho do dataset, 80%/20% é uma boa escolha porque ainda deixa uma quantidade razoável de dados para teste e maximiza o conjunto de treino, permitindo que o modelo aprenda melhor, enquanto ainda terá dados suficientes para uma avaliação confiável.\n"
      ],
      "metadata": {
        "id": "VD2YL8iBVD8A"
      }
    },
    {
      "cell_type": "code",
      "source": [
        "split_point = int(len(digits.data) * 0.8)\n",
        "\n",
        "X_train = digits.data[indices[:split_point]]\n",
        "y_train = digits.target[indices[:split_point]]\n",
        "\n",
        "X_test = digits.data[indices[split_point:]]\n",
        "y_test = digits.target[indices[split_point:]]"
      ],
      "metadata": {
        "id": "N3_lzxiNUmwK"
      },
      "execution_count": 20,
      "outputs": []
    },
    {
      "cell_type": "markdown",
      "source": [
        "##Cálculo de distâncias\n",
        "Implementação do cálculo das distâncias entre um ponto de teste e todos os pontos de treino."
      ],
      "metadata": {
        "id": "Y_3eZbExV5_g"
      }
    },
    {
      "cell_type": "code",
      "source": [
        "import time\n",
        "\n",
        "def euclidean_distance(a, b):\n",
        "    return np.sqrt(np.sum((a - b) ** 2))\n",
        "\n",
        "\n",
        "def calculate_distances(X_train, x_test):\n",
        "    distances = []\n",
        "    for x_train in X_train:\n",
        "        distances.append(euclidean_distance(x_train, x_test))\n",
        "    return np.array(distances)"
      ],
      "metadata": {
        "id": "AnF3cP14VYB5"
      },
      "execution_count": 21,
      "outputs": []
    },
    {
      "cell_type": "markdown",
      "source": [
        "##Seleciona os k Vizinhos mais Próximos com base nas distâncias calculadas\n"
      ],
      "metadata": {
        "id": "A-yBZkUfWFZR"
      }
    },
    {
      "cell_type": "code",
      "source": [
        "def get_k_nearest_neighbors(X_train, y_train, x_test, k):\n",
        "    distances = calculate_distances(X_train, x_test)\n",
        "    k_indices = np.argsort(distances)[:k]\n",
        "    return y_train[k_indices]"
      ],
      "metadata": {
        "id": "D3EzEISaVvsJ"
      },
      "execution_count": 22,
      "outputs": []
    },
    {
      "cell_type": "markdown",
      "source": [
        "##Classificação com Base nos k Vizinhos\n",
        "\n",
        "Classificação do ponto de teste com base na classe mais comum entre os k vizinhos mais próximos."
      ],
      "metadata": {
        "id": "YS402d43WQPQ"
      }
    },
    {
      "cell_type": "code",
      "source": [
        "from collections import Counter\n",
        "\n",
        "def predict_classification(X_train, y_train, x_test, k):\n",
        "    neighbors = get_k_nearest_neighbors(X_train, y_train, x_test, k)\n",
        "    most_common = Counter(neighbors).most_common(1)\n",
        "    return most_common[0][0]"
      ],
      "metadata": {
        "id": "5VX1D-J_VyZ6"
      },
      "execution_count": 23,
      "outputs": []
    },
    {
      "cell_type": "markdown",
      "source": [
        "##Implementação da predição para todo conjunto de teste"
      ],
      "metadata": {
        "id": "flxfv-2XWZV_"
      }
    },
    {
      "cell_type": "code",
      "source": [
        "def k_nearest_neighbors(X_train, y_train, X_test, k):\n",
        "    predictions = []\n",
        "    for x_test in X_test:\n",
        "        predictions.append(predict_classification(X_train, y_train, x_test, k))\n",
        "    return np.array(predictions)\n",
        "\n",
        "# Exemplo de uso:\n",
        "start_time = time.time()\n",
        "\n",
        "k = 3  # Você pode experimentar diferentes valores de k\n",
        "predictions = k_nearest_neighbors(X_train, y_train, X_test, k)\n",
        "\n",
        "# Calcular a acurácia\n",
        "accuracy = np.sum(predictions == y_test) / len(y_test)\n",
        "\n",
        "end_time = time.time()\n",
        "execution_time = end_time - start_time\n",
        "\n",
        "print(f\"Acurácia: {accuracy * 100:.2f}%\")\n",
        "print(f\"Tempo de execução: {execution_time:.4f} segundos\")"
      ],
      "metadata": {
        "colab": {
          "base_uri": "https://localhost:8080/"
        },
        "id": "Oiw4a9NiV1P4",
        "outputId": "3c888141-6e34-40f4-eb54-d6f5f62c0458"
      },
      "execution_count": 24,
      "outputs": [
        {
          "output_type": "stream",
          "name": "stdout",
          "text": [
            "Acurácia: 98.89%\n",
            "Tempo de execução: 3.4544 segundos\n"
          ]
        }
      ]
    },
    {
      "cell_type": "markdown",
      "source": [
        "##Exibição de algumas classificações corretas e incorretas do KNN implementado manualmente"
      ],
      "metadata": {
        "id": "d86TEL1OZXgM"
      }
    },
    {
      "cell_type": "code",
      "source": [
        "import matplotlib.pyplot as plt\n",
        "\n",
        "# Identificar índices das previsões corretas e incorretas\n",
        "correct_indices = np.where(predictions == y_test)[0]\n",
        "incorrect_indices = np.where(predictions != y_test)[0]\n",
        "\n",
        "# Função para exibir amostras\n",
        "def display_samples(indices, X, y, predictions, title):\n",
        "    plt.figure(figsize=(10, 5))\n",
        "    for i, index in enumerate(indices[:10]):  # Mostrar apenas os primeiros 10 exemplos\n",
        "        plt.subplot(2, 5, i + 1)\n",
        "        plt.imshow(X[index].reshape(8, 8), cmap=plt.cm.gray_r)\n",
        "        plt.title(f\"Pred: {predictions[index]}\\nTrue: {y[index]}\")\n",
        "        plt.axis('off')\n",
        "    plt.suptitle(title)\n",
        "    plt.show()\n",
        "\n",
        "# Exibir algumas previsões corretas e incorretas\n",
        "display_samples(correct_indices, X_test, y_test, predictions, \"Classificações Corretas (Manual)\")\n",
        "display_samples(incorrect_indices, X_test, y_test, predictions, \"Classificações Incorretas (Manual)\")\n"
      ],
      "metadata": {
        "colab": {
          "base_uri": "https://localhost:8080/",
          "height": 675
        },
        "id": "u-cOycOkZB0T",
        "outputId": "04c58c74-1c7f-45f6-c71c-c393fd0da02e"
      },
      "execution_count": 25,
      "outputs": [
        {
          "output_type": "display_data",
          "data": {
            "text/plain": [
              "<Figure size 1000x500 with 10 Axes>"
            ],
            "image/png": "[encoded data removed]"
          },
          "metadata": {}
        },
        {
          "output_type": "display_data",
          "data": {
            "text/plain": [
              "<Figure size 1000x500 with 4 Axes>"
            ],
            "image/png": "[encoded data removed]"
          },
          "metadata": {}
        }
      ]
    },
    {
      "cell_type": "markdown",
      "metadata": {
        "id": "FIVztD7lSbYR"
      },
      "source": [
        "### Implementação da Versão 2 do classificador\n",
        "Utilize a função train_test_split() da bibioteca Scikit-Learn para separar os dados em treino e teste e o classificador k-NN da própria biblioteca para identificação dos dígitos. Ao final, exiba a classificação e o tempo de execução."
      ]
    },
    {
      "cell_type": "markdown",
      "source": [
        "##Mesma divisão, porém agora usando a biblioteca Scikit-Learn"
      ],
      "metadata": {
        "id": "voPZq9-kWods"
      }
    },
    {
      "cell_type": "code",
      "execution_count": 13,
      "metadata": {
        "id": "4uvAVl5Cc6nc",
        "scrolled": true
      },
      "outputs": [],
      "source": [
        "from sklearn.model_selection import train_test_split\n",
        "\n",
        "X_train, X_test, y_train, y_test = train_test_split(digits.data, digits.target, test_size=0.2, random_state=42)"
      ]
    },
    {
      "cell_type": "markdown",
      "source": [
        "##Implementação do classificador k-NN da própria biblioteca para identificação dos dígitos.\n"
      ],
      "metadata": {
        "id": "ObRR80dyX3LW"
      }
    },
    {
      "cell_type": "code",
      "source": [
        "from sklearn.neighbors import KNeighborsClassifier\n",
        "from sklearn.metrics import accuracy_score\n",
        "import time\n",
        "\n",
        "# Criação e treinamento do classificador k-NN\n",
        "k = 3  #Escolha de um número pequeno e ímpar\n",
        "knn = KNeighborsClassifier(n_neighbors=k)\n",
        "\n",
        "# Medição do tempo\n",
        "start_time = time.time()\n",
        "\n",
        "knn.fit(X_train, y_train)\n",
        "y_pred = knn.predict(X_test)\n",
        "\n",
        "end_time = time.time()\n",
        "execution_time = end_time - start_time\n",
        "\n",
        "# Calcular a acurácia\n",
        "accuracy = accuracy_score(y_test, y_pred)\n",
        "\n",
        "print(f\"Acurácia: {accuracy * 100:.2f}%\")\n",
        "print(f\"Tempo de execução: {execution_time:.4f} segundos\")\n"
      ],
      "metadata": {
        "colab": {
          "base_uri": "https://localhost:8080/"
        },
        "id": "PsfQm4LcWn67",
        "outputId": "28735854-525a-488c-9ef5-13f1d56d0ff0"
      },
      "execution_count": 14,
      "outputs": [
        {
          "output_type": "stream",
          "name": "stdout",
          "text": [
            "Acurácia: 98.33%\n",
            "Tempo de execução: 0.1837 segundos\n"
          ]
        }
      ]
    },
    {
      "cell_type": "markdown",
      "source": [
        "##Exibição de algumas classificações corretas e incorretas do classificador KNN próprio da biblioteca"
      ],
      "metadata": {
        "id": "9eij_6bmYAU6"
      }
    },
    {
      "cell_type": "code",
      "source": [
        "import matplotlib.pyplot as plt\n",
        "\n",
        "# Identificar índices das previsões corretas\n",
        "correct_indices = np.where(y_pred == y_test)[0]\n",
        "incorrect_indices = np.where(y_pred != y_test)[0]\n",
        "\n",
        "# Exibir algumas previsões corretas\n",
        "def display_samples(indices, X, y, predictions, title):\n",
        "    plt.figure(figsize=(10, 5))\n",
        "    for i, index in enumerate(indices[:10]):  # Mostrar apenas os primeiros 10 exemplos\n",
        "        plt.subplot(2, 5, i + 1)\n",
        "        plt.imshow(X[index].reshape(8, 8), cmap=plt.cm.gray_r)\n",
        "        plt.title(f\"Pred: {predictions[index]}\\nTrue: {y[index]}\")\n",
        "        plt.axis('off')\n",
        "    plt.suptitle(title)\n",
        "    plt.show()\n",
        "\n",
        "# Mostrar amostras corretas e incorretas\n",
        "display_samples(correct_indices, X_test, y_test, y_pred, \"Classificações Corretas\")\n",
        "display_samples(incorrect_indices, X_test, y_test, y_pred, \"Classificações Incorretas\")\n"
      ],
      "metadata": {
        "colab": {
          "base_uri": "https://localhost:8080/",
          "height": 885
        },
        "id": "mTj113bVXyQ1",
        "outputId": "82eb4b86-c35e-4947-ec8b-2ff4fcb7b57e"
      },
      "execution_count": 15,
      "outputs": [
        {
          "output_type": "display_data",
          "data": {
            "text/plain": [
              "<Figure size 1000x500 with 10 Axes>"
            ],
            "image/png": "[encoded data removed]"
          },
          "metadata": {}
        },
        {
          "output_type": "display_data",
          "data": {
            "text/plain": [
              "<Figure size 1000x500 with 6 Axes>"
            ],
            "image/png": "[encoded data removed]"
          },
          "metadata": {}
        }
      ]
    }
  ],
  "metadata": {
    "colab": {
      "collapsed_sections": [
        "ioVFway7cWiw",
        "_JtDQu4Bcp1X",
        "8d8JkaJKcv9O"
      ],
      "provenance": []
    },
    "kernelspec": {
      "display_name": "Python 3 (ipykernel)",
      "language": "python",
      "name": "python3"
    },
    "language_info": {
      "codemirror_mode": {
        "name": "ipython",
        "version": 3
      },
      "file_extension": ".py",
      "mimetype": "text/x-python",
      "name": "python",
      "nbconvert_exporter": "python",
      "pygments_lexer": "ipython3",
      "version": "3.10.9"
    }
  },
  "nbformat": 4,
  "nbformat_minor": 0
}
